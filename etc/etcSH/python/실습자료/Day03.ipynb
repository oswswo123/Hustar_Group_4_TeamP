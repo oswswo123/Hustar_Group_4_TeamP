{
 "cells": [
  {
   "cell_type": "markdown",
   "id": "09cff4cf",
   "metadata": {},
   "source": [
    "- merge cell with next cell : Shift + m (command mode) </br>\n",
    "- split cell at cursor : Ctrl + Shift + - (edit mode) </br>\n",
    "- Command mode에서 되돌리기 : z (command mode) </br>"
   ]
  },
  {
   "cell_type": "code",
   "execution_count": 5,
   "id": "1bdbb087",
   "metadata": {},
   "outputs": [
    {
     "name": "stdout",
     "output_type": "stream",
     "text": [
      "★★★\n",
      "★\n",
      "★★★★★\n",
      "★★★★★★★★★\n",
      "★★★★\n"
     ]
    }
   ],
   "source": [
    "# 반복문 - 실습 2\n",
    "\n",
    "number = \"31594\"\n",
    "\n",
    "for x in number:\n",
    "    print(\"★\" * int(x))"
   ]
  },
  {
   "cell_type": "code",
   "execution_count": 6,
   "id": "464f75c8",
   "metadata": {},
   "outputs": [
    {
     "name": "stdout",
     "output_type": "stream",
     "text": [
      "12345eeee\n"
     ]
    }
   ],
   "source": [
    "# break\n",
    "\n",
    "for i in range(1, 11):\n",
    "    if i > 5:\n",
    "        break\n",
    "    print(i, end=\"\")\n",
    "print(\"eeee\")"
   ]
  },
  {
   "cell_type": "markdown",
   "id": "7b2bb5d0",
   "metadata": {},
   "source": [
    "- in\n",
    ">순서가 있는 data의 element인가를 결정하는 연산자 </br>\n",
    ">있다면 True, 없다면 False를 return"
   ]
  },
  {
   "cell_type": "code",
   "execution_count": 13,
   "id": "b841a3f0",
   "metadata": {},
   "outputs": [
    {
     "name": "stdout",
     "output_type": "stream",
     "text": [
      "['red', 'blue', 'green']\n",
      "['red', 'green']\n"
     ]
    }
   ],
   "source": [
    "colors = list()\n",
    "\n",
    "colors.append(\"red\")\n",
    "colors.append(\"blue\")\n",
    "colors.append(\"green\")\n",
    "\n",
    "print(colors)\n",
    "\n",
    "# 있을때만 지우는 방법\n",
    "\n",
    "if \"blue\" in colors:\n",
    "    colors.remove(\"blue\")\n",
    "\n",
    "print(colors)"
   ]
  },
  {
   "cell_type": "markdown",
   "id": "29d82633",
   "metadata": {},
   "source": [
    "- &lt;list_name&gt;.sort()\n",
    "- sorted(&lt;list_name&gt;)\n",
    "> sort()는 return 값이 없고, sorted()는 return 값이 있다. </br>\n",
    "> 즉, sorted()는 원본이 바뀌지 않고, sort는 원본이 변경됨"
   ]
  },
  {
   "cell_type": "code",
   "execution_count": 20,
   "id": "1c8214b1",
   "metadata": {},
   "outputs": [
    {
     "name": "stdout",
     "output_type": "stream",
     "text": [
      "[1, 2, 5, 7, 9]\n",
      "['banana', 'apple', 'orange']\n",
      "['apple', 'banana', 'orange']\n"
     ]
    }
   ],
   "source": [
    "a = [1, 7, 9, 2, 5]\n",
    "a.sort()\n",
    "print(a)\n",
    "\n",
    "f = [\"banana\", \"apple\", \"orange\"]\n",
    "sorted(f)\n",
    "print(f)\n",
    "\n",
    "f.sort()\n",
    "print(f)"
   ]
  },
  {
   "cell_type": "code",
   "execution_count": 21,
   "id": "d05adca2",
   "metadata": {},
   "outputs": [
    {
     "name": "stdout",
     "output_type": "stream",
     "text": [
      "9\n",
      "1\n",
      "24\n"
     ]
    }
   ],
   "source": [
    "# max(list_name), min(list_name), sum(list_name)\n",
    "\n",
    "a = [1, 7, 9, 2, 5]\n",
    "print(max(a))\n",
    "print(min(a))\n",
    "print(sum(a))"
   ]
  },
  {
   "cell_type": "code",
   "execution_count": 25,
   "id": "148bafab",
   "metadata": {},
   "outputs": [
    {
     "name": "stdout",
     "output_type": "stream",
     "text": [
      "Enter a number: 7\n",
      "Enter a number: 2\n",
      "Enter a number: 9\n",
      "Enter a number: 3\n",
      "Enter a number: 5\n",
      "Enter a number: done\n",
      "[7.0, 2.0, 9.0, 3.0, 5.0]\n",
      "Average:  5.2\n",
      "Average:  9.0\n",
      "Average:  2.0\n"
     ]
    }
   ],
   "source": [
    "# list - 실습1\n",
    "# “done”을 입력할 때까지 사용자로부터 숫자를 입력 받아 리스트에 저장하고,\n",
    "# “done”을 입력하면, 리스트의 평균, 최대값과 최소값을 출력하는 프로그램을\n",
    "# 작성하시오. (힌트. sum(), max(), min() 함수를 사용)\n",
    "\n",
    "input_data = None\n",
    "number_list = list()\n",
    "\n",
    "while input_data != \"done\":\n",
    "    input_data = input(\"Enter a number: \")\n",
    "    if(input_data == \"done\"):\n",
    "        continue\n",
    "    \n",
    "    number_list.append(float(input_data))\n",
    "\n",
    "print(number_list)\n",
    "print(\"Average: \", sum(number_list)/len(number_list))\n",
    "print(\"Average: \", max(number_list))\n",
    "print(\"Average: \", min(number_list))"
   ]
  },
  {
   "cell_type": "code",
   "execution_count": null,
   "id": "daeee965",
   "metadata": {},
   "outputs": [],
   "source": []
  }
 ],
 "metadata": {
  "kernelspec": {
   "display_name": "Python 3 (ipykernel)",
   "language": "python",
   "name": "python3"
  },
  "language_info": {
   "codemirror_mode": {
    "name": "ipython",
    "version": 3
   },
   "file_extension": ".py",
   "mimetype": "text/x-python",
   "name": "python",
   "nbconvert_exporter": "python",
   "pygments_lexer": "ipython3",
   "version": "3.9.7"
  }
 },
 "nbformat": 4,
 "nbformat_minor": 5
}
